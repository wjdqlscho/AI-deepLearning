{
  "nbformat": 4,
  "nbformat_minor": 0,
  "metadata": {
    "colab": {
      "provenance": []
    },
    "kernelspec": {
      "name": "python3",
      "display_name": "Python 3"
    },
    "language_info": {
      "name": "python"
    }
  },
  "cells": [
    {
      "cell_type": "markdown",
      "source": [
        "# 실습 1"
      ],
      "metadata": {
        "id": "XiuRIlRQ0jxp"
      }
    },
    {
      "cell_type": "code",
      "source": [
        "from functools import wraps\n",
        "from typing import Callable, Generator\n",
        "# 데코레이터 함수: 함수의 실행 시간을 측정하는 기능을 추가함\n",
        "def timeit(func: Callable) -> Callable:\n",
        " import time\n",
        "\n",
        " @wraps(func)\n",
        " def wrapper(*args, **kwargs):\n",
        "  start_time = time.time()\n",
        "  result = func(*args, **kwargs)\n",
        "  end_time = time.time()\n",
        "  print(f\"실행 시간: {end_time - start_time:.4f}초\")\n",
        "  return result\n",
        " return wrapper\n",
        "\n",
        "# 제너레이터 함수: 메모리를 아끼기 위해 한 번에 하나의 값을 생성\n",
        "def fibonacci(n: int) -> Generator[int, None, None]:\n",
        "  \"\"\"n번째 피보나치 수열까지 생성\"\"\"\n",
        "  a, b = 0, 1\n",
        "  for _ in range(n):\n",
        "    yield a\n",
        "    a, b = b, a + b\n",
        "\n",
        "# 고차 함수: 다른 함수를 인자로 받아 처리\n",
        "def apply_operation(data: list[int], operation: Callable[[int], int]) -> list[int]:\n",
        "  \"\"\"주어진 함수(operation)를 데이터 리스트에 적용\"\"\"\n",
        "  return [operation(x) for x in data]\n",
        "\n",
        " # 함수형 프로그래밍: 람다 함수 사용\n",
        "square = lambda x: x ** 2\n",
        "cube = lambda x: x ** 3\n",
        "\n",
        "# 주요 실행 코드\n",
        "@timeit # 데코레이터 적용: 실행 시간을 측정\n",
        "def main():\n",
        " fib_list = list(fibonacci(10)) # 10번째 피보나치 수열까지 생성\n",
        " print(\"피보나치 수열:\", fib_list)\n",
        " # 제곱 함수 적용\n",
        " squared_list = apply_operation(fib_list, square)\n",
        " print(\"제곱된 값:\", squared_list)\n",
        " # 세제곱 함수 적용\n",
        " cubed_list = apply_operation(fib_list, cube)\n",
        " print(\"세제곱된 값:\", cubed_list)\n",
        "# main 함수 실행\n",
        "\n",
        "if __name__ == \"__main__\":\n",
        "  main()"
      ],
      "metadata": {
        "colab": {
          "base_uri": "https://localhost:8080/"
        },
        "id": "61zyV4gayzOx",
        "outputId": "b7c53b7f-643f-47ed-df7f-2d4f930d8f01"
      },
      "execution_count": null,
      "outputs": [
        {
          "output_type": "stream",
          "name": "stdout",
          "text": [
            "피보나치 수열: [0, 1, 1, 2, 3, 5, 8, 13, 21, 34]\n",
            "제곱된 값: [0, 1, 1, 4, 9, 25, 64, 169, 441, 1156]\n",
            "세제곱된 값: [0, 1, 1, 8, 27, 125, 512, 2197, 9261, 39304]\n",
            "실행 시간: 0.0002초\n"
          ]
        }
      ]
    },
    {
      "cell_type": "code",
      "source": [
        "class SingletonMeta(type):\n",
        "  _instances = {}\n",
        "\n",
        "  def __call__(cls, *args, **kwargs):\n",
        "    if cls not in cls._instances:\n",
        "      instance = super().__call__(*args, **kwargs)\n",
        "      cls._instances[cls] = instance\n",
        "    return cls._instances[cls]\n",
        "\n",
        "# 싱글톤 클래스: 동일한 인스턴스만 생성\n",
        "class SingletonClass(metaclass=SingletonMeta):\n",
        "  def __init__(self, value):\n",
        "    self.value = value\n",
        "\n",
        "class FileManager:\n",
        "  def __init__(self, filename, mode):\n",
        "    self.filename = filename\n",
        "    self.mode = mode\n",
        "    self.file = None\n",
        "  def __enter__(self):\n",
        "    print(f\"{self.filename} 파일을 엽니다.\")\n",
        "    self.file = open(self.filename, self.mode)\n",
        "    return self.file\n",
        "  def __exit__(self, exc_type, exc_value, traceback):\n",
        "    print(f\"{self.filename} 파일을 닫습니다.\")\n",
        "    if self.file:\n",
        "      self.file.close()\n",
        "\n",
        "# 데코레이터 체이닝: 여러 데코레이터를 체인 형태로 적용\n",
        "def bold(func):\n",
        "  \"\"\"HTML 태그를 사용해 텍스트를 굵게 만듦\"\"\"\n",
        "  def wrapper(*args, **kwargs):\n",
        "    return f\"<b>{func(*args, **kwargs)}</b>\"\n",
        "  return wrapper\n",
        "\n",
        "def italic(func):\n",
        "  \"\"\"HTML 태그를 사용해 텍스트를 기울임\"\"\"\n",
        "  def wrapper(*args, **kwargs):\n",
        "    return f\"<i>{func(*args, **kwargs)}</i>\"\n",
        "  return wrapper\n",
        "\n",
        "@bold # 먼저 bold 데코레이터 적용\n",
        "@italic # 그다음 italic 데코레이터 적용\n",
        "def get_text():\n",
        " return \"Python 고급 프로그래밍\"\n",
        "\n",
        "# 주요 실행 코드\n",
        "if __name__ == \"__main__\":\n",
        " # 싱글톤 클래스 사용\n",
        " s1 = SingletonClass(\"첫 번째 인스턴스\")\n",
        " s2 = SingletonClass(\"두 번째 인스턴스\")\n",
        "\n",
        " print(f\"s1과 s2는 같은 객체인가? {s1 is s2}\")\n",
        " print(f\"s1의 값: {s1.value}\")\n",
        " print(f\"s2의 값: {s2.value}\")\n",
        "\n",
        " # 컨텍스트 관리자 사용\n",
        " with FileManager(\"sample.txt\", \"w\") as file:\n",
        "  file.write(\"파일에 텍스트를 씁니다.\")\n",
        "\n",
        " # 데코레이터 체이닝 예시\n",
        " print(get_text())"
      ],
      "metadata": {
        "colab": {
          "base_uri": "https://localhost:8080/"
        },
        "id": "m6LfJk1ezTPd",
        "outputId": "6df0278d-b031-40d3-8d4b-b1ec782d2d55"
      },
      "execution_count": null,
      "outputs": [
        {
          "output_type": "stream",
          "name": "stdout",
          "text": [
            "s1과 s2는 같은 객체인가? True\n",
            "s1의 값: 첫 번째 인스턴스\n",
            "s2의 값: 첫 번째 인스턴스\n",
            "sample.txt 파일을 엽니다.\n",
            "sample.txt 파일을 닫습니다.\n",
            "<b><i>Python 고급 프로그래밍</i></b>\n"
          ]
        }
      ]
    },
    {
      "cell_type": "markdown",
      "source": [
        "# 실습 2"
      ],
      "metadata": {
        "id": "hQtAgEPB0oBg"
      }
    },
    {
      "cell_type": "code",
      "source": [
        "print(\"Tell me your age?\")\n",
        "myage = int(input())\n",
        "\n",
        "if myage < 30:\n",
        "  print(\"Welcome to the club\")\n",
        "else:\n",
        "  print(\"Oh! no. you are not accepted\")"
      ],
      "metadata": {
        "colab": {
          "base_uri": "https://localhost:8080/"
        },
        "id": "ILzuDjja0ggQ",
        "outputId": "4e50051a-58b5-4d3d-a591-7371910f4058"
      },
      "execution_count": null,
      "outputs": [
        {
          "output_type": "stream",
          "name": "stdout",
          "text": [
            "Tell me your age?\n",
            "25\n",
            "Welcome to the club\n"
          ]
        }
      ]
    },
    {
      "cell_type": "code",
      "source": [
        "score = int(input(\"Enter your score : \"))\n",
        "\n",
        "if score >= 90:\n",
        "  grade = 'A'\n",
        "elif score >= 80:\n",
        "  grade = 'B'\n",
        "elif score >= 70:\n",
        "  grade = 'C'\n",
        "elif score >= 60:\n",
        "  grade = 'D'\n",
        "else:\n",
        "  grade = 'F'\n",
        "\n",
        "print(f\"Your grade is: {grade}\")"
      ],
      "metadata": {
        "colab": {
          "base_uri": "https://localhost:8080/"
        },
        "id": "F6BSwsQW0-5D",
        "outputId": "9e8c06d6-205a-4623-deb0-9587f5577f3b"
      },
      "execution_count": null,
      "outputs": [
        {
          "output_type": "stream",
          "name": "stdout",
          "text": [
            "Enter your score : 90\n",
            "Your grade is: A\n"
          ]
        }
      ]
    },
    {
      "cell_type": "code",
      "source": [
        "n = int(input(\"구구단 몇 단을 계산할까요?\"))\n",
        "print(f\"구구단 {n}단을 계산합니다\")\n",
        "\n",
        "for i in range(1, 10):\n",
        "  print(f\"{n} * {i} = {n * i}\")"
      ],
      "metadata": {
        "id": "bQE_v_l11aJj"
      },
      "execution_count": null,
      "outputs": []
    },
    {
      "cell_type": "code",
      "source": [
        "import random\n",
        "\n",
        "guess_number = random.randint(1, 100)\n",
        "print(\"숫자를 맞혀 보세요. (1 ~ 100)\")\n",
        "\n",
        "user_input = int(input())\n",
        "\n",
        "while user_input != guess_number:\n",
        "  if user_input > guess_number:\n",
        "    print(\"숫자가 너무 큽니다\")\n",
        "  else:\n",
        "    print(\"숫자가 너무 작습니다.\")\n",
        "  user_input = int(input())\n",
        "print(f\"정답입니다. 입력한 숫자는 {user_input}입니다.\")"
      ],
      "metadata": {
        "colab": {
          "base_uri": "https://localhost:8080/"
        },
        "id": "8SeWx5mA1s6F",
        "outputId": "0af49498-ae19-4086-e571-0846aa531653"
      },
      "execution_count": null,
      "outputs": [
        {
          "output_type": "stream",
          "name": "stdout",
          "text": [
            "숫자를 맞혀 보세요. (1 ~ 100)\n",
            "40\n",
            "숫자가 너무 큽니다\n",
            "10\n",
            "숫자가 너무 작습니다.\n",
            "30\n",
            "숫자가 너무 작습니다.\n",
            "20\n",
            "숫자가 너무 작습니다.\n",
            "50\n",
            "숫자가 너무 큽니다\n",
            "34\n",
            "숫자가 너무 큽니다\n",
            "32\n",
            "정답입니다. 입력한 숫자는 32입니다.\n"
          ]
        }
      ]
    },
    {
      "cell_type": "code",
      "source": [
        "for i in range(1, 10, 2):\n",
        "  print(i)"
      ],
      "metadata": {
        "colab": {
          "base_uri": "https://localhost:8080/"
        },
        "id": "Tjh2yLIU2bK9",
        "outputId": "457abbb2-608b-410b-c292-3c54b5d411dc"
      },
      "execution_count": null,
      "outputs": [
        {
          "output_type": "stream",
          "name": "stdout",
          "text": [
            "1\n",
            "3\n",
            "5\n",
            "7\n",
            "9\n"
          ]
        }
      ]
    },
    {
      "cell_type": "code",
      "source": [
        "def print_hello_world():\n",
        "  print(\"Hello world\")\n",
        "\n",
        "print_hello_world()"
      ],
      "metadata": {
        "colab": {
          "base_uri": "https://localhost:8080/"
        },
        "id": "UWGfqRY02fgY",
        "outputId": "2c86fa54-24e3-4844-884c-f324db7d0f79"
      },
      "execution_count": null,
      "outputs": [
        {
          "output_type": "stream",
          "name": "stdout",
          "text": [
            "Hello world\n"
          ]
        }
      ]
    },
    {
      "cell_type": "code",
      "source": [
        "def calculate_rectangle_area(x, y):\n",
        "  return x* y\n",
        "\n",
        "x = 5\n",
        "y = 7\n",
        "print(f\"The area of the rectagle is: {calculate_rectangle_area(x, y)}\")"
      ],
      "metadata": {
        "colab": {
          "base_uri": "https://localhost:8080/"
        },
        "id": "twxqJb1j2orC",
        "outputId": "a41ab647-c4fc-4e25-9968-52f76517df4a"
      },
      "execution_count": null,
      "outputs": [
        {
          "output_type": "stream",
          "name": "stdout",
          "text": [
            "The area of the rectagle is: 35\n"
          ]
        }
      ]
    },
    {
      "cell_type": "code",
      "source": [
        "from math import factorial\n",
        "def faactoria(n):\n",
        "  if n == 1:\n",
        "    return 1\n",
        "  else:\n",
        "    return n * factoria(n-1)\n",
        "\n",
        "num = int(input(\"Enter a number for factorial calculation: \"))\n",
        "print(f\"Factorial result : {factorial(num )}\")"
      ],
      "metadata": {
        "colab": {
          "base_uri": "https://localhost:8080/"
        },
        "id": "Nu62rceN26AZ",
        "outputId": "1a282b28-15fb-4296-a79e-776d070be3f5"
      },
      "execution_count": null,
      "outputs": [
        {
          "output_type": "stream",
          "name": "stdout",
          "text": [
            "Enter a number for factorial calculation: 12\n",
            "Factorial result : 479001600\n"
          ]
        }
      ]
    },
    {
      "cell_type": "code",
      "source": [
        "def greet(name, msg=\"Hello\"):\n",
        "  print(f\"{msg},{name}!\")\n",
        "\n",
        "greet(\"Sungchul\")\n",
        "greet(\"Sungchul\", \"Good Morning\")"
      ],
      "metadata": {
        "colab": {
          "base_uri": "https://localhost:8080/"
        },
        "id": "Mj5UQxTl3SLy",
        "outputId": "55fc34c8-63cf-47d7-923d-07bb57cb2300"
      },
      "execution_count": null,
      "outputs": [
        {
          "output_type": "stream",
          "name": "stdout",
          "text": [
            "Hello,Sungchul!\n",
            "Good Morning,Sungchul!\n"
          ]
        }
      ]
    },
    {
      "cell_type": "code",
      "source": [
        "def example_indentation():\n",
        "  x = 5\n",
        "  print(\"This is properly idented:\", x)\n",
        "\n",
        "example_indentation()"
      ],
      "metadata": {
        "colab": {
          "base_uri": "https://localhost:8080/"
        },
        "id": "xDoi9sFv3mGf",
        "outputId": "97d8e2e3-7aed-40c0-ee51-e03d176bc8e5"
      },
      "execution_count": null,
      "outputs": [
        {
          "output_type": "stream",
          "name": "stdout",
          "text": [
            "This is properly idented: 5\n"
          ]
        }
      ]
    },
    {
      "cell_type": "code",
      "source": [
        "def asterisk_test(a, b, *args):\n",
        "  return a + b + sum(args)\n",
        "print(asterisk_test(1, 2, 3, 4, 5)) # 15\n",
        "\n",
        "# Keyword arguments (**kwargs)\n",
        "def kwargs_test(**kwargs):\n",
        "  for key, value in kwargs.items():\n",
        "    print(f\"{key}: {value}\")\n",
        "kwargs_test(first=3, second=4, third=5)"
      ],
      "metadata": {
        "colab": {
          "base_uri": "https://localhost:8080/"
        },
        "id": "j2rhqlhs3uyf",
        "outputId": "96fa3d83-932a-4503-f17a-c3018b9870c5"
      },
      "execution_count": null,
      "outputs": [
        {
          "output_type": "stream",
          "name": "stdout",
          "text": [
            "15\n",
            "first: 3\n",
            "second: 4\n",
            "third: 5\n"
          ]
        }
      ]
    },
    {
      "cell_type": "code",
      "source": [
        "x = 10\n",
        "\n",
        "def local_vs_global():\n",
        "  global x\n",
        "  x = 20\n",
        "  print(f\"inside function: {x}\")\n",
        "\n",
        "local_vs_global()\n",
        "print(f\"outside function: {x}\")"
      ],
      "metadata": {
        "colab": {
          "base_uri": "https://localhost:8080/"
        },
        "id": "yMJUUlsZ3_Bz",
        "outputId": "0ebb6a9b-24b1-4c9f-db5e-e58aee676ab3"
      },
      "execution_count": null,
      "outputs": [
        {
          "output_type": "stream",
          "name": "stdout",
          "text": [
            "inside function: 20\n",
            "outside function: 20\n"
          ]
        }
      ]
    },
    {
      "cell_type": "code",
      "source": [
        "sentence = \"I love you\"\n",
        "reverse_sentence = \" \"\n",
        "for char in sentence:\n",
        "  reverse_sentence = char + reverse_sentence\n",
        "print(reverse_sentence)"
      ],
      "metadata": {
        "colab": {
          "base_uri": "https://localhost:8080/"
        },
        "id": "p7j9v8J54JEe",
        "outputId": "b8f6f383-4f50-4ed5-e09a-aa0376b61328"
      },
      "execution_count": null,
      "outputs": [
        {
          "output_type": "stream",
          "name": "stdout",
          "text": [
            "uoy evol I \n"
          ]
        }
      ]
    },
    {
      "cell_type": "code",
      "source": [
        "decimal = 10\n",
        "binary_result = ''\n",
        "while decimal > 0:\n",
        " remainder = decimal % 2\n",
        " decimal = decimal // 2\n",
        " binary_result = str(remainder) + binary_result\n",
        "print(f\"Binary representation of decimal 10: {binary_result}\")"
      ],
      "metadata": {
        "colab": {
          "base_uri": "https://localhost:8080/"
        },
        "id": "NzghY9fq4fmK",
        "outputId": "4bccd4c6-3e20-4e48-dd40-b7a9b35e1eaf"
      },
      "execution_count": null,
      "outputs": [
        {
          "output_type": "stream",
          "name": "stdout",
          "text": [
            "Binary representation of decimal 10: 1010\n"
          ]
        }
      ]
    },
    {
      "cell_type": "code",
      "source": [
        "kor_score = [49, 80, 20, 100, 80]\n",
        "math_score = [43, 60, 85, 30, 90]\n",
        "eng_score = [49, 82, 48, 50, 100]\n",
        "midterm_score = [kor_score, math_score, eng_score]\n",
        "student_score = [0, 0, 0, 0, 0]\n",
        "i = 0\n",
        "for subject in midterm_score:\n",
        "  for score in subject:\n",
        "    student_score[i] += score\n",
        "    i += 1\n",
        "  i = 0\n",
        "a, b, c, d, e = student_score\n",
        "student_average = [a/3, b/3, c/3, d/3, e/3]\n",
        "print(f\"Student average scores: {student_average}\")"
      ],
      "metadata": {
        "colab": {
          "base_uri": "https://localhost:8080/"
        },
        "id": "XF2D_XdQ4zUr",
        "outputId": "1a39ff15-3bf4-409e-f767-15c2e534c24d"
      },
      "execution_count": null,
      "outputs": [
        {
          "output_type": "stream",
          "name": "stdout",
          "text": [
            "Student average scores: [47.0, 74.0, 51.0, 60.0, 90.0]\n"
          ]
        }
      ]
    },
    {
      "cell_type": "code",
      "source": [
        "def trapezium_area(base, top, height):\n",
        "  return ((base + top) * height) / 2\n",
        "base = float(input(\"Enter base length: \"))\n",
        "top = float(input(\"Enter top length: \"))\n",
        "height = float(input(\"Enter height: \"))\n",
        "print(f\"Trapezium area: {trapezium_area(base, top, height)}\")"
      ],
      "metadata": {
        "colab": {
          "base_uri": "https://localhost:8080/"
        },
        "id": "ibB4ZtWB487Q",
        "outputId": "f79ee989-4f58-4093-cb75-d516360659ce"
      },
      "execution_count": null,
      "outputs": [
        {
          "output_type": "stream",
          "name": "stdout",
          "text": [
            "Enter base length: 12\n",
            "Enter top length: 12\n",
            "Enter height: 12\n",
            "Trapezium area: 144.0\n"
          ]
        }
      ]
    },
    {
      "cell_type": "markdown",
      "source": [
        "#실습 3"
      ],
      "metadata": {
        "id": "ZSPjLoaw5A1f"
      }
    },
    {
      "cell_type": "code",
      "source": [
        "class CustomIterable:\n",
        "  def __init__(self, start, end):\n",
        "    self.start = start\n",
        "    self.end = end\n",
        "  def __iter__(self):\n",
        "    return CustomIterator(self.start, self.end)\n",
        "\n",
        "class CustomIterator:\n",
        "  def __init__(self, start, end):\n",
        "    self.current = start\n",
        "    self.end = end\n",
        "  def __iter__(self):\n",
        "    return self\n",
        "  def __next__(self):\n",
        "    if self.current >= self.end:\n",
        "      raise StopIteration\n",
        "    else:\n",
        "      self.current += 1\n",
        "      return self.current - 1\n",
        "\n",
        "# CustomIterable을 사용하여 순회하기\n",
        "custom_iterable = CustomIterable(1, 5)\n",
        "for value in custom_iterable:\n",
        " print(value)"
      ],
      "metadata": {
        "colab": {
          "base_uri": "https://localhost:8080/"
        },
        "id": "CWv4KZYA5FX4",
        "outputId": "04814332-56ce-420e-a4a3-e79987fb4427"
      },
      "execution_count": null,
      "outputs": [
        {
          "output_type": "stream",
          "name": "stdout",
          "text": [
            "1\n",
            "2\n",
            "3\n",
            "4\n"
          ]
        }
      ]
    },
    {
      "cell_type": "code",
      "source": [
        "def countdown(start):\n",
        "  while start > 0:\n",
        "    yield start\n",
        "    start -= 1\n",
        "  yield \"LiftOFF!\"\n",
        "\n",
        "for value in countdown(5):\n",
        "  print(value)"
      ],
      "metadata": {
        "colab": {
          "base_uri": "https://localhost:8080/"
        },
        "id": "-evdaHW85iHs",
        "outputId": "7dedb5d2-50cb-48c1-96a5-0ed05abf90cf"
      },
      "execution_count": null,
      "outputs": [
        {
          "output_type": "stream",
          "name": "stdout",
          "text": [
            "5\n",
            "4\n",
            "3\n",
            "2\n",
            "1\n",
            "LiftOFF!\n"
          ]
        }
      ]
    },
    {
      "cell_type": "code",
      "source": [
        "import sys\n",
        "list_comprehension = [x * x for x in range(10000)]\n",
        "generator_expression = (x * x for x in range(10000))\n",
        "print(f\"List comprehension memory size: {sys.getsizeof(list_comprehension)} bytes\")\n",
        "\n",
        "\n",
        "print(f\"Generator expression memory size: {sys.getsizeof(generator_expression)} bytes\")\n",
        "\n",
        "for value in generator_expression:\n",
        " if value > 100:\n",
        "  break\n",
        " print(value)"
      ],
      "metadata": {
        "colab": {
          "base_uri": "https://localhost:8080/"
        },
        "id": "ES2iuncg51ZR",
        "outputId": "6a81b2e6-169c-4627-f4b7-c63a1a0a73b3"
      },
      "execution_count": null,
      "outputs": [
        {
          "output_type": "stream",
          "name": "stdout",
          "text": [
            "List comprehension memory size: 85176 bytes\n",
            "Generator expression memory size: 208 bytes\n",
            "0\n",
            "1\n",
            "4\n",
            "9\n",
            "16\n",
            "25\n",
            "36\n",
            "49\n",
            "64\n",
            "81\n",
            "100\n"
          ]
        }
      ]
    },
    {
      "cell_type": "code",
      "source": [
        "numbers = range(1, 20)\n",
        "even_squares = [x ** 2 for x in numbers if x % 2 == 0]\n",
        "print(f\"Even squares: {even_squares}\")\n",
        "\n",
        "words = [\"apple\", \"banana\", \"cherry\", \"date\"]\n",
        "word_lengths = {word: len(word) for word in words}\n",
        "print(f\"Word lengths: {word_lengths}\")\n",
        "\n",
        "duplicates = [1, 2, 2, 3, 4, 4, 5]\n",
        "unique_squares = {x ** 2 for x in duplicates}\n",
        "print(f\"Unique squares: {unique_squares}\")"
      ],
      "metadata": {
        "colab": {
          "base_uri": "https://localhost:8080/"
        },
        "id": "1eFMa9dm55-e",
        "outputId": "c240be85-8a27-4baf-bda4-79e108963fde"
      },
      "execution_count": null,
      "outputs": [
        {
          "output_type": "stream",
          "name": "stdout",
          "text": [
            "Even squares: [4, 16, 36, 64, 100, 144, 196, 256, 324]\n",
            "Word lengths: {'apple': 5, 'banana': 6, 'cherry': 6, 'date': 4}\n",
            "Unique squares: {1, 4, 9, 16, 25}\n"
          ]
        }
      ]
    },
    {
      "cell_type": "code",
      "source": [
        "from functools import reduce\n",
        "numbers = [1, 2, 3, 4, 5]\n",
        "doubled_numbers = list(map(lambda x: x * 2, numbers))\n",
        "print(f\"Doubled numbers: {doubled_numbers}\")\n",
        "\n",
        "even_numbers = list(filter(lambda x: x % 2 == 0, numbers))\n",
        "print(f\"Even numbers: {even_numbers}\")\n",
        "\n",
        "sum_numbers = reduce(lambda x, y: x + y, numbers)\n",
        "print(f\"Sum of numbers: {sum_numbers}\")"
      ],
      "metadata": {
        "colab": {
          "base_uri": "https://localhost:8080/"
        },
        "id": "ympeUiG16PAZ",
        "outputId": "5d9d2687-743e-4b25-9c33-a8a02b2f695f"
      },
      "execution_count": null,
      "outputs": [
        {
          "output_type": "stream",
          "name": "stdout",
          "text": [
            "Doubled numbers: [2, 4, 6, 8, 10]\n",
            "Even numbers: [2, 4]\n",
            "Sum of numbers: 15\n"
          ]
        }
      ]
    },
    {
      "cell_type": "code",
      "source": [
        "pairs = [(1, 'one'), (3, 'three'), (2, 'two'), (4, 'four')]\n",
        "\n",
        "sorted_pairs = sorted(pairs, key=lambda pair: pair[1])\n",
        "print(f\"Sorted pairs by second element: {sorted_pairs}\")\n",
        "\n",
        "def apply_operation(numbers, operation):\n",
        " return [operation(num) for num in numbers]\n",
        "\n",
        "squared_numbers = apply_operation(numbers, lambda x: x ** 2)\n",
        "print(f\"Squared numbers: {squared_numbers}\")"
      ],
      "metadata": {
        "colab": {
          "base_uri": "https://localhost:8080/"
        },
        "id": "n5nGkbm46cuY",
        "outputId": "1d4c96b3-7eac-4aec-eb8f-ff38812f5132"
      },
      "execution_count": null,
      "outputs": [
        {
          "output_type": "stream",
          "name": "stdout",
          "text": [
            "Sorted pairs by second element: [(4, 'four'), (1, 'one'), (3, 'three'), (2, 'two')]\n",
            "Squared numbers: [1, 4, 9, 16, 25]\n"
          ]
        }
      ]
    },
    {
      "cell_type": "code",
      "source": [
        "class ManagedFile:\n",
        "  def __init__(self, filename):\n",
        "    self.filename = filename\n",
        "\n",
        "  def __enter__(self):\n",
        "    self.file = open(self.filename, 'w')\n",
        "    print(f\"Opening file {self.filename}\")\n",
        "    return self.file\n",
        "\n",
        "  def __exit__(self, exc_type, exc_value, traceback):\n",
        "    if self.file:\n",
        "      self.file.close()\n",
        "    print(f\"Closing file {self.filename}\")\n",
        "\n",
        "with ManagedFile('example.txt') as f:\n",
        " f.write('Hello, world!\\n')\n",
        " f.write('ManagedFile is working correctly.\\n')"
      ],
      "metadata": {
        "colab": {
          "base_uri": "https://localhost:8080/"
        },
        "id": "MMdQ1vwf6iql",
        "outputId": "4530add3-c168-42e5-bcdf-910958780e2b"
      },
      "execution_count": null,
      "outputs": [
        {
          "output_type": "stream",
          "name": "stdout",
          "text": [
            "Opening file example.txt\n",
            "Closing file example.txt\n"
          ]
        }
      ]
    },
    {
      "cell_type": "code",
      "source": [
        "import time\n",
        "\n",
        "def timer_decorator(func):\n",
        "  def wrapper(*args, **kwargs):\n",
        "    start_time = time.time()\n",
        "    result = func(*args, **kwargs)\n",
        "    end_time = time.time()\n",
        "    print(f\"Function {func.__name__} took {end_time - start_time:.4f} seconds to complete\")\n",
        "    return result\n",
        "  return wrapper\n",
        "\n",
        "@timer_decorator # is equivalent to “timer_decorator(slow_function)”\n",
        "def slow_function():\n",
        " time.sleep(2)\n",
        " print(\"Function finished\")\n",
        "\n",
        "slow_function()"
      ],
      "metadata": {
        "colab": {
          "base_uri": "https://localhost:8080/"
        },
        "id": "EOTNbsau7UPT",
        "outputId": "b5acfa1b-e104-482c-ad46-22584e81b37d"
      },
      "execution_count": null,
      "outputs": [
        {
          "output_type": "stream",
          "name": "stdout",
          "text": [
            "Function finished\n",
            "Function slow_function took 2.0003 seconds to complete\n"
          ]
        }
      ]
    },
    {
      "cell_type": "code",
      "source": [
        "import itertools\n",
        "# 1. itertools.count()를 사용한 무한 반복\n",
        "print(\"itertools.count() 예시:\")\n",
        "for i in itertools.count(5, 5):\n",
        "  if i > 20:\n",
        "    break\n",
        "  print(i) # 5, 10, 15, 20\n",
        "\n",
        "# 2. itertools.cycle()을 사용하여 이터러블 무한 반복\n",
        "print(\"\\nitertools.cycle() 예시:\")\n",
        "count = 0\n",
        "for item in itertools.cycle(['A', 'B', 'C']):\n",
        "  if count > 5:\n",
        "    break\n",
        "  print(item, end=\" \") # A B C A B C\n",
        "  count += 1\n",
        "\n",
        "# 3. itertools.chain()을 사용하여 여러 이터러블 연결\n",
        "print(\"\\n\\nitertools.chain() 예시:\")\n",
        "list1 = [1, 2, 3]\n",
        "list2 = ['a', 'b', 'c']\n",
        "for item in itertools.chain(list1, list2):\n",
        " print(item, end=\" \") # 1 2 3 a b c\n",
        "\n",
        "# 4. itertools.islice()를 사용하여 이터러블 슬라이스\n",
        "print(\"\\n\\nitertools.islice() 예시:\")\n",
        "infinite_count = itertools.count(10)\n",
        "\n",
        "# 10부터 시작하여 5개의 숫자만 가져오기\n",
        "for number in itertools.islice(infinite_count, 5):\n",
        " print(number, end=\" \") # 10 11 12 13 14\n",
        "\n",
        "# 5. itertools.product()를 사용하여 카테시안 곱 생성\n",
        "print(\"\\n\\nitertools.product() 예시:\")\n",
        "colors = ['red', 'blue']\n",
        "sizes = ['S', 'M', 'L']\n",
        "for combination in itertools.product(colors, sizes):\n",
        " print(combination) # ('red', 'S'), ('red', 'M'), ..., ('blue', 'L')\n",
        "\n",
        "# 6. itertools.permutations()를 사용하여 순열 생성\n",
        "print(\"\\nitertools.permutations() 예시:\")\n",
        "items = [1, 2, 3]\n",
        "for perm in itertools.permutations(items, 2):\n",
        " print(perm) # (1, 2), (1, 3), (2, 1), (2, 3), ...\n",
        "\n",
        "# 7. itertools.combinations()를 사용하여 조합 생성\n",
        "print(\"\\nitertools.combinations() 예시:\")\n",
        "for comb in itertools.combinations(items, 2):\n",
        " print(comb) # (1, 2), (1, 3), (2, 3)\n",
        "\n",
        "# 8. itertools.groupby()를 사용하여 그룹화\n",
        "print(\"\\nitertools.groupby() 예시:\")\n",
        "data = ['A', 'A', 'B', 'B', 'C', 'C', 'C']\n",
        "\n",
        "# groupby는 반드시 정렬된 데이터에서만 유의미함\n",
        "for key, group in itertools.groupby(data):\n",
        " print(f\"{key}: {list(group)}\") # A: ['A', 'A'], B: ['B', 'B'], C: ['C', 'C', 'C']"
      ],
      "metadata": {
        "colab": {
          "base_uri": "https://localhost:8080/"
        },
        "id": "QXdvgwss7fy6",
        "outputId": "c2292aa6-96f7-43c9-c3fe-b38fd05fc43b"
      },
      "execution_count": null,
      "outputs": [
        {
          "output_type": "stream",
          "name": "stdout",
          "text": [
            "itertools.count() 예시:\n",
            "5\n",
            "10\n",
            "15\n",
            "20\n",
            "\n",
            "itertools.cycle() 예시:\n",
            "A B C A B C \n",
            "\n",
            "itertools.chain() 예시:\n",
            "1 2 3 a b c \n",
            "\n",
            "itertools.islice() 예시:\n",
            "10 11 12 13 14 \n",
            "\n",
            "itertools.product() 예시:\n",
            "('red', 'S')\n",
            "('red', 'M')\n",
            "('red', 'L')\n",
            "('blue', 'S')\n",
            "('blue', 'M')\n",
            "('blue', 'L')\n",
            "\n",
            "itertools.permutations() 예시:\n",
            "(1, 2)\n",
            "(1, 3)\n",
            "(2, 1)\n",
            "(2, 3)\n",
            "(3, 1)\n",
            "(3, 2)\n",
            "\n",
            "itertools.combinations() 예시:\n",
            "(1, 2)\n",
            "(1, 3)\n",
            "(2, 3)\n",
            "\n",
            "itertools.groupby() 예시:\n",
            "A: ['A', 'A']\n",
            "B: ['B', 'B']\n",
            "C: ['C', 'C', 'C']\n"
          ]
        }
      ]
    },
    {
      "cell_type": "markdown",
      "source": [
        "#실습 4\n"
      ],
      "metadata": {
        "id": "oa9IcoSN7xE7"
      }
    },
    {
      "cell_type": "code",
      "source": [
        "from collections import deque\n",
        "\n",
        "queue = deque([\"Alice\", \"Bob\", \"Charlie\", \"David\", \"Eve\"])\n",
        "\n",
        "print(\"Initial Queue:\", queue)\n",
        "\n",
        "\n",
        "queue.append(\"Frank\")\n",
        "queue.appendleft(\"Grace\")\n",
        "\n",
        "\n",
        "queue.remove(\"Charlie\")\n",
        "\n",
        "\n",
        "queue.rotate(-2)\n",
        "\n",
        "print(\"Final Queue:\", queue)"
      ],
      "metadata": {
        "colab": {
          "base_uri": "https://localhost:8080/"
        },
        "id": "Bej5GSQQ7y7X",
        "outputId": "9671f8a6-9201-4180-f2f5-6c2f06698385"
      },
      "execution_count": null,
      "outputs": [
        {
          "output_type": "stream",
          "name": "stdout",
          "text": [
            "Initial Queue: deque(['Alice', 'Bob', 'Charlie', 'David', 'Eve'])\n",
            "Final Queue: deque(['Bob', 'David', 'Eve', 'Frank', 'Grace', 'Alice'])\n"
          ]
        }
      ]
    },
    {
      "cell_type": "code",
      "source": [
        "from collections import Counter\n",
        "import string\n",
        "\n",
        "text = \"\"\"Text mining is an interdisciplinary field that uses algorithms to derive patterns, information, and insights from texts.\"\"\"\n",
        "\n",
        "text_cleaned = text.translate(str.maketrans(\"\", \"\", string.punctuation)).lower().split()\n",
        "stop_words = {\"is\", \"an\", \"to\", \"and\", \"from\", \"that\"}\n",
        "word_counts = Counter(word for word in text_cleaned if word not in stop_words)\n",
        "print(word_counts.most_common(5))"
      ],
      "metadata": {
        "colab": {
          "base_uri": "https://localhost:8080/"
        },
        "id": "1jt-ZQ4F8AwD",
        "outputId": "79cce829-a067-4985-9905-6a3570f424aa"
      },
      "execution_count": null,
      "outputs": [
        {
          "output_type": "stream",
          "name": "stdout",
          "text": [
            "[('text', 1), ('mining', 1), ('interdisciplinary', 1), ('field', 1), ('uses', 1)]\n"
          ]
        }
      ]
    },
    {
      "cell_type": "code",
      "source": [
        "from collections import defaultdict\n",
        "\n",
        "products = [\n",
        " (\"Electronics\", \"Smartphone\"),\n",
        " (\"Electronics\", \"Laptop\"),\n",
        " (\"Groceries\", \"Apple\"),\n",
        " (\"Groceries\", \"Milk\"),\n",
        " (\"Clothing\", \"Shirt\"),\n",
        " (\"Electronics\", \"Headphones\"),\n",
        "]\n",
        "\n",
        "category_dict = defaultdict(list)\n",
        "\n",
        "for category, product in products:\n",
        " category_dict[category].append(product)\n",
        "\n",
        "for category, items in category_dict.items():\n",
        " print(f\"{category}: {', '.join(items)}\")"
      ],
      "metadata": {
        "colab": {
          "base_uri": "https://localhost:8080/"
        },
        "id": "r7-imPa-8Qdf",
        "outputId": "b5fbc1d3-ef94-49f5-d47d-2484c2e9103c"
      },
      "execution_count": null,
      "outputs": [
        {
          "output_type": "stream",
          "name": "stdout",
          "text": [
            "Electronics: Smartphone, Laptop, Headphones\n",
            "Groceries: Apple, Milk\n",
            "Clothing: Shirt\n"
          ]
        }
      ]
    },
    {
      "cell_type": "code",
      "source": [
        "from collections import namedtuple\n",
        "\n",
        "Employee = namedtuple(\"Employee\", [\"name\", \"role\", \"salary\"])\n",
        "\n",
        "employees = [\n",
        " Employee(\"Alice\", \"Developer\", 80000),\n",
        " Employee(\"Bob\", \"Manager\", 95000),\n",
        " Employee(\"Charlie\", \"Designer\", 70000),\n",
        "]\n",
        "\n",
        "total_salary = sum(emp.salary for emp in employees)\n",
        "\n",
        "print(\"Employee Details:\")\n",
        "for emp in employees:\n",
        " print(f\"Name: {emp.name}, Role: {emp.role}, Salary: ${emp.salary}\")\n",
        "print(f\"Total Salary: ${total_salary}\")"
      ],
      "metadata": {
        "colab": {
          "base_uri": "https://localhost:8080/"
        },
        "id": "gPg-0NDn8bvJ",
        "outputId": "9556f56c-0116-431e-809d-026e993f5109"
      },
      "execution_count": null,
      "outputs": [
        {
          "output_type": "stream",
          "name": "stdout",
          "text": [
            "Employee Details:\n",
            "Name: Alice, Role: Developer, Salary: $80000\n",
            "Name: Bob, Role: Manager, Salary: $95000\n",
            "Name: Charlie, Role: Designer, Salary: $70000\n",
            "Total Salary: $245000\n"
          ]
        }
      ]
    },
    {
      "cell_type": "code",
      "source": [
        "from collections import Counter\n",
        "import math\n",
        "\n",
        "documents = [\n",
        " \"text mining algorithms analyze text\",\n",
        " \"text data mining finds patterns in text\",\n",
        " \"patterns and algorithms are used in text mining\",\n",
        "]\n",
        "\n",
        "tf = [Counter(doc.split()) for doc in documents]\n",
        "\n",
        "df = Counter()\n",
        "for doc_tf in tf:\n",
        " df.update(doc_tf.keys())\n",
        "\n",
        "N = len(documents)\n",
        "tf_idf = []\n",
        "for doc_index, doc_tf in enumerate(tf):\n",
        "  doc_tfidf = {}\n",
        "  for term, count in doc_tf.items():\n",
        "    idf = math.log(N / df[term])\n",
        "    doc_tfidf[term] = count * idf\n",
        "  tf_idf.append(doc_tfidf)\n",
        "\n",
        "for doc_index, scores in enumerate(tf_idf):\n",
        "  print(f\"Document {doc_index + 1}:\")\n",
        "  for term, score in scores.items():\n",
        "    print(f\" {term}: {score:.2f}\")"
      ],
      "metadata": {
        "colab": {
          "base_uri": "https://localhost:8080/"
        },
        "id": "tvSXVZmw8kr0",
        "outputId": "b0093f90-4725-4094-953f-637d57c6d5d8"
      },
      "execution_count": null,
      "outputs": [
        {
          "output_type": "stream",
          "name": "stdout",
          "text": [
            "Document 1:\n",
            " text: 0.00\n",
            " mining: 0.00\n",
            " algorithms: 0.41\n",
            " analyze: 1.10\n",
            "Document 2:\n",
            " text: 0.00\n",
            " data: 1.10\n",
            " mining: 0.00\n",
            " finds: 1.10\n",
            " patterns: 0.41\n",
            " in: 0.41\n",
            "Document 3:\n",
            " patterns: 0.41\n",
            " and: 1.10\n",
            " algorithms: 0.41\n",
            " are: 1.10\n",
            " used: 1.10\n",
            " in: 0.41\n",
            " text: 0.00\n",
            " mining: 0.00\n"
          ]
        }
      ]
    }
  ]
}