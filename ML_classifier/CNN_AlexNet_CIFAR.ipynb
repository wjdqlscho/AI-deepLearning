{
  "cells": [
    {
      "cell_type": "markdown",
      "metadata": {
        "id": "dN3ZQlftiUvA"
      },
      "source": [
        "# Convolutional Neural Network\n"
      ]
    },
    {
      "cell_type": "markdown",
      "source": [
        "## 실습 목표\n",
        "-----\n",
        "- CNN을 구성하는 주요 연산을 이해하고, 신경망을 설계한다.\n",
        "- AlexNet을 사용하여 이미지를 학습하고 10개의 카테고리를 갖는 이미지를 분류하는 이미지 분류기를 생성한다. (데이터셋: [CIFAR](https://pytorch.org/vision/0.9/datasets.html#cifar))\n",
        "- 이미지 증강을 수행하여 모델의 성능을 높이는 방법을 이해한다.\n",
        "- Confusion Matrix를 생성하여 분류 정확도를 확인한다.\n",
        "- **reference**\n",
        "    - https://tutorials.pytorch.kr/beginner/basics/buildmodel_tutorial.html\n",
        "    - https://tutorials.pytorch.kr/beginner/basics/data_tutorial.html\n",
        "    - https://medium.com/@djin31/how-to-plot-wholesome-confusion-matrix-40134fd402a8"
      ],
      "metadata": {
        "id": "iAw-rUpIHGF5"
      }
    },
    {
      "cell_type": "markdown",
      "source": [
        "## 문제 정의\n",
        "----\n",
        "- AlexNet\n",
        "    - AlexNet competed in the ImageNet Large Scale Visual Recognition Challenge on September 30, 2012. The network achieved a top-5 error of 15.3%, more than 10.8 percentage points lower than that of the runner up.\n",
        "\n",
        "\n",
        "![AlexNet](https://upload.wikimedia.org/wikipedia/commons/thumb/c/cc/Comparison_image_neural_networks.svg/720px-Comparison_image_neural_networks.svg.png)"
      ],
      "metadata": {
        "id": "hzOYxhgsHnOI"
      }
    },
    {
      "cell_type": "markdown",
      "source": [
        "## 주요 코드\n",
        "----"
      ],
      "metadata": {
        "id": "B7gSAu31IRGY"
      }
    },
    {
      "cell_type": "markdown",
      "source": [
        "\n",
        "### 1. nn.Conv2d()\n",
        "- `in_channels`\n",
        "- `out_channels`\n",
        "- `kernel_size`\n",
        "- `stride=1`\n",
        "- `padding=0`\n",
        "\n",
        "\n",
        "sample code\n",
        "```\n",
        "nn.Conv2d(3, 96, kernel_size=11, stride=4, padding=5),\n",
        "```"
      ],
      "metadata": {
        "id": "ZiWlGqjKKWE-"
      }
    },
    {
      "cell_type": "markdown",
      "source": [
        "\n",
        "### 2. nn.MaxPool2d()\n",
        "- `kernel_size`\n",
        "- `stride=None`\n",
        "- `padding=0`\n",
        "\n",
        "\n",
        "sample code\n",
        "```\n",
        "nn.MaxPool2d(kernel_size=3, stride=2, padding=1),\n",
        "```"
      ],
      "metadata": {
        "id": "BS_N9UC8KZcv"
      }
    },
    {
      "cell_type": "markdown",
      "source": [
        "\n",
        "### 3. tensor.view()\n",
        "- `reshape`\n",
        "```\n",
        ">>> x = torch.randn(4, 4)\n",
        ">>> x.size()\n",
        "torch.Size([4, 4])\n",
        ">>> y = x.view(16)\n",
        ">>> y.size()\n",
        "torch.Size([16])\n",
        ">>> z = x.view(-1, 8)  # the size -1 is inferred from other dimensions\n",
        ">>> z.size()\n",
        "torch.Size([2, 8])\n",
        "```\n"
      ],
      "metadata": {
        "id": "HD5nfUF9Kag7"
      }
    },
    {
      "cell_type": "markdown",
      "source": [
        "AlexNet 코드 미리보기([구조](https://en.wikipedia.org/wiki/File:Comparison_image_neural_networks.svg))\n",
        "\n",
        "\n",
        "```\n",
        "class AlexNet(nn.Module):\n",
        "\n",
        "    def __init__(self, num_classes=10):\n",
        "        super(AlexNet, self).__init__()\n",
        "        self.features = nn.Sequential(\n",
        "            nn.Conv2d(3, 96, kernel_size=11, stride=4, padding=5),\n",
        "            nn.ReLU(inplace=True),\n",
        "            nn.MaxPool2d(kernel_size=3, stride=2, padding=1),\n",
        "            nn.Conv2d(96, 256, kernel_size=5, padding=2),\n",
        "            nn.ReLU(inplace=True),\n",
        "            nn.MaxPool2d(kernel_size=3, stride=2, padding=1),\n",
        "            nn.Conv2d(256, 384, kernel_size=3, padding=1),\n",
        "            nn.ReLU(inplace=True),\n",
        "            nn.Conv2d(384, 384, kernel_size=3, padding=1),\n",
        "            nn.ReLU(inplace=True),\n",
        "            nn.Conv2d(384, 256, kernel_size=3, padding=1),\n",
        "            nn.ReLU(inplace=True),\n",
        "            nn.MaxPool2d(kernel_size=3, stride=2, padding=1),\n",
        "        )\n",
        "        self.classifier = nn.Sequential(\n",
        "            nn.Linear(256 * 2 * 2, 4096),\n",
        "            nn.ReLU(inplace=True),\n",
        "            nn.Linear(4096, num_classes),\n",
        "        )\n",
        "\n",
        "\n",
        "    def forward(self, x):\n",
        "        x = self.features(x)\n",
        "        x = x.view(x.size(0), -1)\n",
        "        x = self.classifier(x)\n",
        "        return x\n",
        "```\n",
        "\n"
      ],
      "metadata": {
        "id": "wgCMXP5oKcY_"
      }
    },
    {
      "cell_type": "markdown",
      "source": [
        "### 4. 이미지 증강"
      ],
      "metadata": {
        "id": "LbYsfSb_MY7R"
      }
    },
    {
      "cell_type": "markdown",
      "source": [
        "```\n",
        "mean = train_img.data.mean(axis=(0,1,2)) / 255\n",
        "std = test_img.data.std(axis=(0,1,2)) / 255\n",
        "print(f'평균:{mean}, 표준편차:{std}')\n",
        "\n",
        "transform_train = transforms.Compose([\n",
        "    transforms.ToTensor(),\n",
        "    transforms.Normalize(mean, std),\n",
        "    transforms.RandomCrop(size=train_img.data.shape[1], padding=4),\n",
        "    transforms.RandomHorizontalFlip(),\n",
        "])\n",
        "\n",
        "transform_test = transforms.Compose([\n",
        "    transforms.ToTensor(),\n",
        "    transforms.Normalize(mean, std),\n",
        "])\n",
        "\n",
        "train_img2 = datasets.CIFAR10(\n",
        "    root = 'data',\n",
        "    train = True,\n",
        "    download = True,\n",
        "    transform = transform_train,\n",
        ")\n",
        "\n",
        "test_img2 = datasets.CIFAR10(\n",
        "    root = 'data',\n",
        "    train = False,\n",
        "    download = True,\n",
        "    transform = transform_test,\n",
        ")\n",
        "```"
      ],
      "metadata": {
        "id": "4AgL4zZeMfXL"
      }
    },
    {
      "cell_type": "markdown",
      "source": [
        "### 5. Confusion Matrix\n",
        "```\n",
        "from sklearn.metrics import confusion_matrix\n",
        "```"
      ],
      "metadata": {
        "id": "2r-lQHexOEY8"
      }
    },
    {
      "cell_type": "markdown",
      "metadata": {
        "id": "d6HMrwnVi_GJ"
      },
      "source": [
        "## CIFAR Classifier(AlexNet)\n",
        "----\n",
        "CIFAR 데이터셋을 사용하여 이미지에 포함된 object가 무엇인지 분류하는 이미지 분류기를 생성해봅니다.\n"
      ]
    },
    {
      "cell_type": "markdown",
      "source": [
        "### [Step1] Load libraries & Datasets"
      ],
      "metadata": {
        "id": "X-C-ullPLrmu"
      }
    },
    {
      "cell_type": "code",
      "execution_count": null,
      "metadata": {
        "id": "UdsAY_OFiAwA"
      },
      "outputs": [],
      "source": [
        "import numpy as np\n",
        "import matplotlib.pyplot as plt\n",
        "\n",
        "import torch\n",
        "from torch.utils.data import DataLoader\n",
        "from torch import nn\n",
        "\n",
        "from torchvision import datasets\n",
        "from torchvision.transforms import transforms\n",
        "from torchvision.transforms.functional import to_pil_image"
      ]
    },
    {
      "cell_type": "code",
      "execution_count": null,
      "metadata": {
        "id": "6Qj7dJoCG6Vg"
      },
      "outputs": [],
      "source": [
        "# CIFAR 데이터 불러오기\n",
        "train_img = datasets.CIFAR10(\n",
        "    root = 'data',\n",
        "    train = True,\n",
        "    download = True,\n",
        "    transform = transforms.ToTensor(),\n",
        ")\n",
        "\n",
        "test_img = datasets.CIFAR10(\n",
        "    root = 'data',\n",
        "    train = False,\n",
        "    download = True,\n",
        "    transform = transforms.ToTensor(),\n",
        ")"
      ]
    },
    {
      "cell_type": "markdown",
      "metadata": {
        "id": "0eVZEhR3FtVu"
      },
      "source": [
        "### [Step2] Data preprocessing\n",
        "\n",
        "불러온 이미지의 증강을 통해 학습 정확도를 향상시키도록 합니다.\n",
        "\n",
        "* RandomCrop\n",
        "* RandomHorizontalFlip\n",
        "* Normalize"
      ]
    },
    {
      "cell_type": "code",
      "execution_count": null,
      "metadata": {
        "id": "Uc9xHUQEHCG7"
      },
      "outputs": [],
      "source": [
        "mean = train_img.data.mean(axis=(0,1,2)) / 255\n",
        "std = train_img.data.std(axis=(0,1,2)) / 255\n",
        "print(f'평균:{mean}, 표준편차:{std}')"
      ]
    },
    {
      "cell_type": "code",
      "execution_count": null,
      "metadata": {
        "id": "7vpIPI097K-F"
      },
      "outputs": [],
      "source": [
        "transform_train = transforms.Compose([\n",
        "    transforms.ToTensor(),\n",
        "    transforms.Normalize(mean, std),\n",
        "    transforms.RandomCrop(size=train_img.data.shape[1], padding=4),\n",
        "    transforms.RandomHorizontalFlip(),\n",
        "])\n",
        "\n",
        "transform_test = transforms.Compose([\n",
        "    transforms.ToTensor(),\n",
        "    transforms.Normalize(mean, std),\n",
        "])"
      ]
    },
    {
      "cell_type": "code",
      "execution_count": null,
      "metadata": {
        "id": "izKdPzZu7zvd"
      },
      "outputs": [],
      "source": [
        "train_img2 = datasets.CIFAR10(\n",
        "    root = 'data',\n",
        "    train = True,\n",
        "    download = True,\n",
        "    transform = transform_train,\n",
        ")\n",
        "\n",
        "test_img2 = datasets.CIFAR10(\n",
        "    root = 'data',\n",
        "    train = False,\n",
        "    download = True,\n",
        "    transform = transform_test,\n",
        ")"
      ]
    },
    {
      "cell_type": "markdown",
      "source": [
        "### [Step3] Set hyperparameters"
      ],
      "metadata": {
        "id": "MaHtW6LkNBse"
      }
    },
    {
      "cell_type": "code",
      "execution_count": null,
      "metadata": {
        "id": "pDqQL8xBdXfc"
      },
      "outputs": [],
      "source": [
        "EPOCH = 10\n",
        "BATCH_SIZE = 128\n",
        "LEARNING_RATE = 1e-3\n",
        "DEVICE = torch.device(\"cuda\" if torch.cuda.is_available() else \"cpu\")\n",
        "print(\"Using Device:\", DEVICE)"
      ]
    },
    {
      "cell_type": "markdown",
      "source": [
        "### [Step4] Create DataLoader"
      ],
      "metadata": {
        "id": "lmaLavPDM7wz"
      }
    },
    {
      "cell_type": "code",
      "execution_count": null,
      "metadata": {
        "id": "7Vg9INIm94Nt"
      },
      "outputs": [],
      "source": [
        "# DataLoader 만들기\n",
        "train_loader = DataLoader(train_img2, batch_size = BATCH_SIZE, shuffle = True)\n",
        "test_loader = DataLoader(test_img2, batch_size = BATCH_SIZE, shuffle = False)"
      ]
    },
    {
      "cell_type": "markdown",
      "metadata": {
        "id": "4D9i0DX3iSlx"
      },
      "source": [
        "#### EDA"
      ]
    },
    {
      "cell_type": "code",
      "execution_count": null,
      "metadata": {
        "id": "LPFgyjYn-wgO"
      },
      "outputs": [],
      "source": [
        "print(train_img, '\\n------------------\\n', test_img)"
      ]
    },
    {
      "cell_type": "code",
      "execution_count": null,
      "metadata": {
        "id": "NoVlIHiZmmLU"
      },
      "outputs": [],
      "source": [
        "train_img[0]"
      ]
    },
    {
      "cell_type": "code",
      "execution_count": null,
      "metadata": {
        "id": "EcwGOt2eDXtZ"
      },
      "outputs": [],
      "source": [
        "train_features, train_labels = next(iter(train_loader))\n",
        "print(f\"Feature batch shape: {train_features.size()}\")\n",
        "print(f\"Labels batch shape: {train_labels.size()}\")"
      ]
    },
    {
      "cell_type": "code",
      "execution_count": null,
      "metadata": {
        "id": "-nHIax8LjHTt"
      },
      "outputs": [],
      "source": [
        "labels_map = {\n",
        "    0: \"plane\",\n",
        "    1: \"car\",\n",
        "    2: \"bird\",\n",
        "    3: \"cat\",\n",
        "    4: \"deer\",\n",
        "    5: \"dog\",\n",
        "    6: \"frog\",\n",
        "    7: \"horse\",\n",
        "    8: \"ship\",\n",
        "    9: \"truck\",\n",
        "}"
      ]
    },
    {
      "cell_type": "code",
      "execution_count": null,
      "metadata": {
        "id": "RfTEDUTHjILY"
      },
      "outputs": [],
      "source": [
        "figure = plt.figure(figsize = (8, 8))\n",
        "cols, rows = 5, 5\n",
        "\n",
        "for i in range(1, cols * rows +1):\n",
        "    sample_idx = torch.randint(len(train_img), size=(1,)).item()\n",
        "    img, label = train_img[sample_idx]\n",
        "    figure.add_subplot(rows, cols, i)\n",
        "    plt.title(labels_map[label])\n",
        "    plt.axis('off')\n",
        "    plt.imshow(to_pil_image(img))\n",
        "plt.show()"
      ]
    },
    {
      "cell_type": "markdown",
      "metadata": {
        "id": "tpRGRkTXjJB0"
      },
      "source": [
        "### [Step5] Set Network Structure"
      ]
    },
    {
      "cell_type": "code",
      "execution_count": null,
      "metadata": {
        "id": "BJ9iQln4FEhF"
      },
      "outputs": [],
      "source": [
        "class AlexNet(nn.Module):\n",
        "    def __init__(self, num_classes=10):\n",
        "        super(AlexNet, self).__init__()\n",
        "        self.features = nn.Sequential(\n",
        "            nn.Conv2d(3, 96, kernel_size=11, stride=4),\n",
        "            nn.ReLU(inplace=True),\n",
        "            nn.MaxPool2d(kernel_size=3, stride=2, padding=1),\n",
        "            nn.Conv2d(96, 256, kernel_size=5, padding=2),\n",
        "            nn.ReLU(inplace=True),\n",
        "            nn.MaxPool2d(kernel_size=3, stride=2, padding=1),\n",
        "            nn.Conv2d(256, 384, kernel_size=3, padding=1),\n",
        "            nn.ReLU(inplace=True),\n",
        "            nn.Conv2d(384, 384, kernel_size=3, padding=1),\n",
        "            nn.ReLU(inplace=True),\n",
        "            nn.Conv2d(384, 256, kernel_size=3, padding=1),\n",
        "            nn.ReLU(inplace=True),\n",
        "            nn.MaxPool2d(kernel_size=3, stride=2, padding=1),\n",
        "        )\n",
        "        self.classifier = nn.Sequential(\n",
        "            nn.Linear(256, 4096),\n",
        "            nn.Dropout(0.5),\n",
        "            nn.ReLU(inplace=True),\n",
        "            nn.Linear(4096, num_classes),\n",
        "        )\n",
        "\n",
        "    def forward(self, x):\n",
        "        x = self.features(x)\n",
        "        x = x.view(x.size(0), -1)\n",
        "        x = self.classifier(x)\n",
        "        return x"
      ]
    },
    {
      "cell_type": "markdown",
      "source": [
        "### [Step6] Create Model instance"
      ],
      "metadata": {
        "id": "PVfUKEi0NtBq"
      }
    },
    {
      "cell_type": "code",
      "execution_count": null,
      "metadata": {
        "id": "FDgZ56RzGAN3"
      },
      "outputs": [],
      "source": [
        "# Model instance 생성\n",
        "model = AlexNet().to(DEVICE)\n",
        "print(model)"
      ]
    },
    {
      "cell_type": "markdown",
      "metadata": {
        "id": "gPwh-CXVGtBp"
      },
      "source": [
        "### [Step7] Model compile"
      ]
    },
    {
      "cell_type": "code",
      "execution_count": null,
      "metadata": {
        "id": "RwM8c2TdGseO"
      },
      "outputs": [],
      "source": [
        "loss = nn.CrossEntropyLoss()\n",
        "# Optimizer\n",
        "optimizer = torch.optim.Adam(model.parameters(), lr = LEARNING_RATE)"
      ]
    },
    {
      "cell_type": "markdown",
      "metadata": {
        "id": "mz2OUt7nHAcn"
      },
      "source": [
        "### [Step8] Set train loop"
      ]
    },
    {
      "cell_type": "code",
      "execution_count": null,
      "metadata": {
        "id": "ikRtBCZAG_iP"
      },
      "outputs": [],
      "source": [
        "def train(train_loader, model, loss_fn, optimizer):\n",
        "    model.train()\n",
        "\n",
        "    size = len(train_loader.dataset)\n",
        "\n",
        "    for batch, (X, y) in enumerate(train_loader):\n",
        "        X, y = X.to(DEVICE), y.to(DEVICE)\n",
        "        pred = model(X)\n",
        "\n",
        "        # 손실 계산\n",
        "        loss = loss_fn(pred, y)\n",
        "\n",
        "        # 역전파\n",
        "        optimizer.zero_grad()\n",
        "        loss.backward()\n",
        "        optimizer.step()\n",
        "\n",
        "        if batch % 100 == 0:\n",
        "            loss, current = loss.item(), batch * len(X)\n",
        "            print(f'loss: {loss:>7f}  [{current:>5d}]/{size:5d}')"
      ]
    },
    {
      "cell_type": "markdown",
      "metadata": {
        "id": "AYsz8VDYH-hq"
      },
      "source": [
        "### [Step9] Set test loop"
      ]
    },
    {
      "cell_type": "code",
      "execution_count": null,
      "metadata": {
        "id": "Sn1ny3mCH92_"
      },
      "outputs": [],
      "source": [
        "def test(test_loader, model, loss_fn):\n",
        "    model.eval()\n",
        "\n",
        "    size = len(test_loader.dataset)\n",
        "    num_batches = len(test_loader)\n",
        "    test_loss, correct = 0, 0\n",
        "\n",
        "    with torch.no_grad():\n",
        "        for X, y in test_loader:\n",
        "            X, y = X.to(DEVICE), y.to(DEVICE)\n",
        "            pred = model(X)\n",
        "            test_loss += loss_fn(pred, y).item()\n",
        "            correct += (pred.argmax(1) == y).type(torch.float).sum().item()\n",
        "\n",
        "    test_loss /= num_batches\n",
        "    correct /= size\n",
        "    print(f\"Test Error: \\n Accuracy: {(100*correct):>0.1f}%, Avg loss: {test_loss:8f}\\n\")"
      ]
    },
    {
      "cell_type": "markdown",
      "metadata": {
        "id": "7ecAzx8DI_ri"
      },
      "source": [
        "### [Step10] Run model"
      ]
    },
    {
      "cell_type": "code",
      "execution_count": null,
      "metadata": {
        "id": "2OtZ9fhmJBeP"
      },
      "outputs": [],
      "source": [
        "for i in range(EPOCH) :\n",
        "    print(f\"Epoch {i+1} \\n------------------------\")\n",
        "    train(train_loader, model, loss, optimizer)\n",
        "    test(test_loader, model, loss)\n",
        "print(\"Done!\")"
      ]
    },
    {
      "cell_type": "markdown",
      "metadata": {
        "id": "MpNO70oMKMpS"
      },
      "source": [
        "### [Step11] Confusion Matrix"
      ]
    },
    {
      "cell_type": "code",
      "execution_count": null,
      "metadata": {
        "id": "fMblMnMHKO7N"
      },
      "outputs": [],
      "source": [
        "import itertools\n",
        "def plot_confusion_matrix(cm, target_names=None, cmap=None,\n",
        "                          normalize=True, labels=True, title='Confusion matrix'):\n",
        "    accuracy = np.trace(cm) / float(np.sum(cm))\n",
        "    misclass = 1 - accuracy\n",
        "\n",
        "    if cmap is None:\n",
        "        cmap = plt.get_cmap('Blues')\n",
        "\n",
        "    if normalize:\n",
        "        cm = cm.astype('float') / cm.sum(axis=1)[:, np.newaxis]\n",
        "\n",
        "    plt.figure(figsize=(8, 6))\n",
        "    plt.imshow(cm, interpolation='nearest', cmap=cmap)\n",
        "    plt.title(title)\n",
        "    plt.colorbar()\n",
        "\n",
        "    thresh = cm.max() / 1.5 if normalize else cm.max() / 2\n",
        "\n",
        "    if target_names is not None:\n",
        "        tick_marks = np.arange(len(target_names))\n",
        "        plt.xticks(tick_marks, target_names)\n",
        "        plt.yticks(tick_marks, target_names)\n",
        "\n",
        "    if labels:\n",
        "        for i, j in itertools.product(range(cm.shape[0]), range(cm.shape[1])):\n",
        "            if normalize:\n",
        "                plt.text(j, i, \"{:0.4f}\".format(cm[i, j]),\n",
        "                         horizontalalignment=\"center\",\n",
        "                         color=\"white\" if cm[i, j] > thresh else \"black\")\n",
        "            else:\n",
        "                plt.text(j, i, \"{:,}\".format(cm[i, j]),\n",
        "                         horizontalalignment=\"center\",\n",
        "                         color=\"white\" if cm[i, j] > thresh else \"black\")\n",
        "\n",
        "    plt.tight_layout()\n",
        "    plt.ylabel('True label')\n",
        "    plt.xlabel('Predicted label\\naccuracy={:0.4f};\\\n",
        "                         misclass={:0.4f}'.format(accuracy, misclass))\n",
        "    plt.show()"
      ]
    },
    {
      "cell_type": "code",
      "execution_count": null,
      "metadata": {
        "id": "n8qJj3gHLICF"
      },
      "outputs": [],
      "source": [
        "from sklearn.metrics import confusion_matrix\n",
        "\n",
        "model.eval()\n",
        "ylabel = []\n",
        "ypred_label = []\n",
        "\n",
        "for batch_idx, (inputs, targets) in enumerate(test_loader):\n",
        "    inputs, targets = inputs.to(DEVICE), targets.to(DEVICE)\n",
        "    outputs = model(inputs)\n",
        "    _, predicted = outputs.max(1)\n",
        "    ylabel = np.concatenate((ylabel, targets.cpu().numpy()))\n",
        "    ypred_label = np.concatenate((ypred_label, predicted.cpu().numpy()))\n",
        "\n",
        "cnf_matrix = confusion_matrix(ylabel, ypred_label)"
      ]
    },
    {
      "cell_type": "code",
      "execution_count": null,
      "metadata": {
        "id": "OcZvhiTK-xl5"
      },
      "outputs": [],
      "source": [
        "plot_confusion_matrix(cnf_matrix,\n",
        "                      target_names=labels_map.values(),\n",
        "                      title='Confusion matrix, trained by AlexNet')"
      ]
    },
    {
      "cell_type": "code",
      "execution_count": null,
      "metadata": {
        "id": "k3IiXQfdQOg0"
      },
      "outputs": [],
      "source": []
    }
  ],
  "metadata": {
    "accelerator": "GPU",
    "colab": {
      "collapsed_sections": [
        "iAw-rUpIHGF5",
        "hzOYxhgsHnOI",
        "ZiWlGqjKKWE-",
        "BS_N9UC8KZcv"
      ],
      "private_outputs": true,
      "provenance": []
    },
    "kernelspec": {
      "display_name": "Python 3",
      "language": "python",
      "name": "python3"
    },
    "language_info": {
      "codemirror_mode": {
        "name": "ipython",
        "version": 3
      },
      "file_extension": ".py",
      "mimetype": "text/x-python",
      "name": "python",
      "nbconvert_exporter": "python",
      "pygments_lexer": "ipython3",
      "version": "3.8.5"
    },
    "toc": {
      "base_numbering": 1,
      "nav_menu": {},
      "number_sections": false,
      "sideBar": true,
      "skip_h1_title": false,
      "title_cell": "Table of Contents",
      "title_sidebar": "Contents",
      "toc_cell": false,
      "toc_position": {},
      "toc_section_display": true,
      "toc_window_display": false
    }
  },
  "nbformat": 4,
  "nbformat_minor": 0
}